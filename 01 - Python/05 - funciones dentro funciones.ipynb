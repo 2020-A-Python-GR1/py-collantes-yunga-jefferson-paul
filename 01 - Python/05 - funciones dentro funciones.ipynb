{
 "cells": [
  {
   "cell_type": "code",
   "execution_count": 8,
   "metadata": {},
   "outputs": [
    {
     "name": "stdout",
     "output_type": "stream",
     "text": [
      "Resta\n"
     ]
    },
    {
     "data": {
      "text/plain": [
       "-2"
      ]
     },
     "execution_count": 8,
     "metadata": {},
     "output_type": "execute_result"
    }
   ],
   "source": [
    "def calculadora(num_uno, num_dos,operacion = \"resta\"):\n",
    "    def suma():\n",
    "        print(\"Suma\")\n",
    "        return num_uno+num_dos\n",
    "    def resta():\n",
    "        print(\"Resta\")\n",
    "        return num_uno - num_dos\n",
    "    def multiplicacion():\n",
    "        print(\"Multiplicacion\")\n",
    "        return num_uno * num_dos\n",
    "    def division():\n",
    "        print(\"Division\")\n",
    "        return num_uno/num_dos\n",
    "    def devolver_respuesta():\n",
    "        opciones = {\"suma\":suma,\n",
    "                    \"resta\":resta,\n",
    "                    \"multiplicacion\":multiplicacion,\n",
    "                    \"division\":division\n",
    "                }\n",
    "        return opciones [operacion]()\n",
    "    return devolver_respuesta()\n",
    "calculadora(2,4)"
   ]
  },
  {
   "cell_type": "code",
   "execution_count": 9,
   "metadata": {},
   "outputs": [
    {
     "name": "stdout",
     "output_type": "stream",
     "text": [
      "Dime tu edad31\n",
      "31\n",
      "<class 'str'>\n"
     ]
    }
   ],
   "source": [
    "edad = input(\"Dime tu edad\")\n",
    "print (edad)\n",
    "print(type(edad))"
   ]
  },
  {
   "cell_type": "code",
   "execution_count": null,
   "metadata": {},
   "outputs": [],
   "source": []
  }
 ],
 "metadata": {
  "kernelspec": {
   "display_name": "Python 3",
   "language": "python",
   "name": "python3"
  },
  "language_info": {
   "codemirror_mode": {
    "name": "ipython",
    "version": 3
   },
   "file_extension": ".py",
   "mimetype": "text/x-python",
   "name": "python",
   "nbconvert_exporter": "python",
   "pygments_lexer": "ipython3",
   "version": "3.7.6"
  }
 },
 "nbformat": 4,
 "nbformat_minor": 4
}
