{
 "cells": [
  {
   "cell_type": "code",
   "execution_count": 2,
   "metadata": {},
   "outputs": [
    {
     "data": {
      "text/plain": [
       "4"
      ]
     },
     "execution_count": 2,
     "metadata": {},
     "output_type": "execute_result"
    }
   ],
   "source": [
    "#Funciones Lambda\n",
    "def elevar_al_cuadrado(numero):\n",
    "    return numero*numero\n",
    "elevar_al_cuadrado(2)"
   ]
  },
  {
   "cell_type": "code",
   "execution_count": 3,
   "metadata": {},
   "outputs": [],
   "source": [
    "al_cuadrado = lambda x:x*x"
   ]
  },
  {
   "cell_type": "code",
   "execution_count": 4,
   "metadata": {},
   "outputs": [],
   "source": [
    "sumar_dos_numeros= lambda x,y : x+y"
   ]
  },
  {
   "cell_type": "code",
   "execution_count": 5,
   "metadata": {},
   "outputs": [
    {
     "data": {
      "text/plain": [
       "6"
      ]
     },
     "execution_count": 5,
     "metadata": {},
     "output_type": "execute_result"
    }
   ],
   "source": [
    "sumar_dos_numeros(2,4)"
   ]
  },
  {
   "cell_type": "code",
   "execution_count": 6,
   "metadata": {},
   "outputs": [
    {
     "data": {
      "text/plain": [
       "9"
      ]
     },
     "execution_count": 6,
     "metadata": {},
     "output_type": "execute_result"
    }
   ],
   "source": [
    "al_cuadrado(3)"
   ]
  },
  {
   "cell_type": "code",
   "execution_count": 8,
   "metadata": {},
   "outputs": [],
   "source": [
    "#Clases \n",
    "class Nada:\n",
    "    pass #para desarrollar en un futuro"
   ]
  },
  {
   "cell_type": "code",
   "execution_count": 9,
   "metadata": {},
   "outputs": [],
   "source": [
    "una_nada = Nada()"
   ]
  },
  {
   "cell_type": "code",
   "execution_count": 10,
   "metadata": {},
   "outputs": [
    {
     "name": "stdout",
     "output_type": "stream",
     "text": [
      "<__main__.Nada object at 0x0000025B17C0C148>\n",
      "<class '__main__.Nada'>\n"
     ]
    }
   ],
   "source": [
    "print(una_nada)\n",
    "print(type(una_nada))"
   ]
  },
  {
   "cell_type": "code",
   "execution_count": 1,
   "metadata": {},
   "outputs": [
    {
     "name": "stdout",
     "output_type": "stream",
     "text": [
      "Empezo Constructor\n",
      "Rojo\n",
      "140.39999999999998\n",
      "Color: Rojo\n",
      "Numero de Chasis: 120\n"
     ]
    }
   ],
   "source": [
    "class Auto:\n",
    "    color = None #Atributo Publico\n",
    "    __numero_chasis = 1 #Atributo Privado\n",
    "    def __init__(self,color):\n",
    "        print(\"Empezo Constructor\")\n",
    "        self.color = color #constructor self + this \n",
    "    \n",
    "    def setear_chasis(self,numero_chasis):#Metodo Publico\n",
    "        self.__numero_chasis = numero_chasis\n",
    "        return self.__calculo_chasis()\n",
    "    \n",
    "    def __calculo_chasis (self):#metodo Privado\n",
    "        return self.__numero_chasis*1.17\n",
    "    \n",
    "    def __str__(self):\n",
    "        parte_uno = f\"Color: {self.color}\\n\"\n",
    "        parte_dos = f\"Numero de Chasis: {self.__numero_chasis}\"\n",
    "        return parte_uno + parte_dos\n",
    "        \n",
    "nuevo_auto = Auto(\"Rojo\")\n",
    "print(nuevo_auto.color)\n",
    "print(nuevo_auto.setear_chasis(120))\n",
    "print (nuevo_auto)"
   ]
  },
  {
   "cell_type": "code",
   "execution_count": 18,
   "metadata": {},
   "outputs": [],
   "source": [
    "class BMW (Auto):#heredar unn clase\n",
    "    def __init__(self, color,chasis):\n",
    "        print(\"Iniciar contructor hijo\")\n",
    "        super().__init__(color)\n",
    "        super().setear_chasis(chasis)\n",
    "    "
   ]
  },
  {
   "cell_type": "code",
   "execution_count": 20,
   "metadata": {},
   "outputs": [
    {
     "name": "stdout",
     "output_type": "stream",
     "text": [
      "Iniciar contructor hijo\n",
      "Empezo Constructor\n",
      "Colo: Negro\n",
      "Numero de Chasis: 150\n"
     ]
    }
   ],
   "source": [
    "nuevo_bmw = BMW(\"Negro\",150)\n",
    "print(nuevo_bmw)"
   ]
  },
  {
   "cell_type": "code",
   "execution_count": null,
   "metadata": {},
   "outputs": [],
   "source": []
  }
 ],
 "metadata": {
  "kernelspec": {
   "display_name": "Python 3",
   "language": "python",
   "name": "python3"
  },
  "language_info": {
   "codemirror_mode": {
    "name": "ipython",
    "version": 3
   },
   "file_extension": ".py",
   "mimetype": "text/x-python",
   "name": "python",
   "nbconvert_exporter": "python",
   "pygments_lexer": "ipython3",
   "version": "3.7.6"
  }
 },
 "nbformat": 4,
 "nbformat_minor": 4
}
