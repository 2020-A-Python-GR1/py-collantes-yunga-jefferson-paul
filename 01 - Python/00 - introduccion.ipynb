{
 "cells": [
  {
   "cell_type": "markdown",
   "metadata": {},
   "source": [
    "# Tituli 1\n",
    "## Titulo 2\n",
    "![alt text](https://github.com/adam-p/markdown-here/raw/master/src/common/images/icon48.png \"Logo Title Text 1\")\n",
    "```javascript\n",
    "var s = \"JavaScript syntax highlighting\";\n",
    "alert(s);\n",
    "```\n",
    " \n",
    "```python\n",
    "s = \"Python syntax highlighting\"\n",
    "print s\n",
    "```\n",
    " \n",
    "```\n",
    "No language indicated, so no syntax highlighting. \n",
    "But let's throw in a <b>tag</b>.\n",
    "```"
   ]
  },
  {
   "cell_type": "code",
   "execution_count": 3,
   "metadata": {},
   "outputs": [
    {
     "name": "stdout",
     "output_type": "stream",
     "text": [
      "Hola Mundo\n"
     ]
    }
   ],
   "source": [
    "print (\"Hola Mundo\")"
   ]
  },
  {
   "cell_type": "code",
   "execution_count": 2,
   "metadata": {},
   "outputs": [
    {
     "name": "stdout",
     "output_type": "stream",
     "text": [
      "Hola Mundo\n"
     ]
    }
   ],
   "source": [
    "print (\"Hola Mundo\")"
   ]
  },
  {
   "cell_type": "code",
   "execution_count": 11,
   "metadata": {},
   "outputs": [
    {
     "name": "stdout",
     "output_type": "stream",
     "text": [
      "<class 'int'>\n",
      "<class 'float'>\n",
      "<class 'str'>\n",
      "<class 'str'>\n",
      "<class 'bool'>\n",
      "<class 'bool'>\n",
      "<class 'NoneType'>\n"
     ]
    }
   ],
   "source": [
    "# No tipado (no se declara la variables)\n",
    "# Variables primitivas \n",
    "entero = 4\n",
    "decimales = 1.1\n",
    "string = \"Jefferson\"\n",
    "segundo_nombre = \"Paul\" # no se debe utilizar camel case \"segundoNombre\" para el nombrado del proyecto no debe empezar con numeros\n",
    "casado = False \n",
    "estudiante = True \n",
    "hijos = None\n",
    "print (type (entero)) #int\n",
    "print (type (decimales)) #float\n",
    "print (type (string)) #string\n",
    "print (type (segundo_nombre))\n",
    "print (type (casado)) # boolean\n",
    "print (type (estudiante)) # boolen\n",
    "print (type (hijos)) # non type\n"
   ]
  },
  {
   "cell_type": "code",
   "execution_count": 8,
   "metadata": {},
   "outputs": [
    {
     "name": "stdout",
     "output_type": "stream",
     "text": [
      "\n",
      "Es uno de los poetas preferidos por gran parte de los lectores de poesía y también por los que no lo son habitualmente.\n",
      "Uno de los más leídos y de los más queridos. \n",
      "A continuación puedes leer mi selección de los mejores poemas de Mario Benedetti.\n",
      "\n",
      "\n"
     ]
    }
   ],
   "source": [
    "cadena_texto = \"\"\"\n",
    "Es uno de los poetas preferidos por gran parte de los lectores de poesía y también por los que no lo son habitualmente.\n",
    "Uno de los más leídos y de los más queridos. \n",
    "A continuación puedes leer mi selección de los mejores poemas de Mario Benedetti.\n",
    "\n",
    "\"\"\"\n",
    "print (cadena_texto)"
   ]
  },
  {
   "cell_type": "code",
   "execution_count": 20,
   "metadata": {},
   "outputs": [
    {
     "name": "stdout",
     "output_type": "stream",
     "text": [
      "False\n",
      "Paul\n"
     ]
    }
   ],
   "source": [
    "print (entero)\n",
    "entero = decimales\n",
    "entero = hijos \n",
    "entero = casado\n",
    "entero = segundo_nombre\n",
    "print (entero)"
   ]
  },
  {
   "cell_type": "code",
   "execution_count": 12,
   "metadata": {},
   "outputs": [
    {
     "name": "stdout",
     "output_type": "stream",
     "text": [
      "Truty\n",
      "Falsy\n",
      "Falsy\n",
      "Truty\n",
      "Falsy\n",
      "Truty\n",
      "Truty\n",
      "Truty\n",
      "Falsy\n",
      "Truty\n",
      "Falsy\n",
      "Truty\n",
      "Falsy\n",
      "Truty\n"
     ]
    }
   ],
   "source": [
    "# Condiciones \n",
    "# Truty - Flasy \n",
    "tuplas = (1,2,3) #Arreglos que no se pueden modificar\n",
    "listas = [4,5,6] #arreglo que se pueden modoficar \n",
    "diccionario = {\n",
    "    \"nombre\": \"Jefferson\"\n",
    "}\n",
    "if ('Jefferson'):\n",
    "    #todo lo que vayamos a escribir va a estar dentro de if \n",
    "    #\n",
    "    print('Truty')\n",
    "else:\n",
    "    #continuamos el codigo\n",
    "    print ('Falsy')\n",
    "if (''):\n",
    "    print('Truty')\n",
    "else:\n",
    "    print('Falsy')\n",
    "    \n",
    "    \n",
    "noulo = None\n",
    "if (noulo):\n",
    "     print('Truty')\n",
    "else:\n",
    "    print('Falsy')\n",
    "    \n",
    "if (1):\n",
    "     print('Truty')\n",
    "else:\n",
    "    print('Falsy')\n",
    "if (0):\n",
    "     print('Truty')\n",
    "else:\n",
    "    print('Falsy')\n",
    "if (-1):\n",
    "     print('Truty')\n",
    "else:\n",
    "    print('Falsy')\n",
    "if (1.2):\n",
    "     print('Truty')\n",
    "else:\n",
    "    print('Falsy')\n",
    "if (-1.2):\n",
    "     print('Truty')\n",
    "else:\n",
    "    print('Falsy')\n",
    "    \n",
    "if (()):    \n",
    "     print('Truty')\n",
    "else:\n",
    "    print('Falsy')\n",
    "    \n",
    "    \n",
    "    \n",
    "if ((1,2,3)):    \n",
    "     print('Truty')\n",
    "else:\n",
    "    print('Falsy')\n",
    "    \n",
    "    \n",
    "    \n",
    "    \n",
    "if ([]):\n",
    "     print('Truty')\n",
    "else:\n",
    "    print('Falsy')\n",
    "if ([1,2,3]):\n",
    "     print('Truty')\n",
    "else:\n",
    "    print('Falsy')\n",
    "    \n",
    "    \n",
    "if ({}):\n",
    "     print('Truty')\n",
    "else:\n",
    "    print('Falsy')\n",
    "    \n",
    "    \n",
    "if ({string:\"Jefferson\"}):\n",
    "     print('Truty')\n",
    "else:\n",
    "    print('Falsy')\n",
    "    "
   ]
  },
  {
   "cell_type": "code",
   "execution_count": null,
   "metadata": {},
   "outputs": [],
   "source": []
  }
 ],
 "metadata": {
  "kernelspec": {
   "display_name": "Python 3",
   "language": "python",
   "name": "python3"
  },
  "language_info": {
   "codemirror_mode": {
    "name": "ipython",
    "version": 3
   },
   "file_extension": ".py",
   "mimetype": "text/x-python",
   "name": "python",
   "nbconvert_exporter": "python",
   "pygments_lexer": "ipython3",
   "version": "3.7.6"
  }
 },
 "nbformat": 4,
 "nbformat_minor": 4
}
