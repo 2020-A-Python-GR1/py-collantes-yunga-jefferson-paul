{
 "cells": [
  {
   "cell_type": "markdown",
   "metadata": {},
   "source": [
    "# Tituli 1\n",
    "## Titulo 2\n",
    "![alt text](https://github.com/adam-p/markdown-here/raw/master/src/common/images/icon48.png \"Logo Title Text 1\")\n",
    "```javascript\n",
    "var s = \"JavaScript syntax highlighting\";\n",
    "alert(s);\n",
    "```\n",
    " \n",
    "```python\n",
    "s = \"Python syntax highlighting\"\n",
    "print s\n",
    "```\n",
    " \n",
    "```\n",
    "No language indicated, so no syntax highlighting. \n",
    "But let's throw in a <b>tag</b>.\n",
    "```"
   ]
  },
  {
   "cell_type": "code",
   "execution_count": 3,
   "metadata": {},
   "outputs": [
    {
     "name": "stdout",
     "output_type": "stream",
     "text": [
      "Hola Mundo\n"
     ]
    }
   ],
   "source": [
    "print (\"Hola Mundo\")"
   ]
  },
  {
   "cell_type": "code",
   "execution_count": 2,
   "metadata": {},
   "outputs": [
    {
     "name": "stdout",
     "output_type": "stream",
     "text": [
      "Hola Mundo\n"
     ]
    }
   ],
   "source": [
    "print (\"Hola Mundo\")"
   ]
  },
  {
   "cell_type": "code",
   "execution_count": 11,
   "metadata": {},
   "outputs": [
    {
     "name": "stdout",
     "output_type": "stream",
     "text": [
      "<class 'int'>\n",
      "<class 'float'>\n",
      "<class 'str'>\n",
      "<class 'str'>\n",
      "<class 'bool'>\n",
      "<class 'bool'>\n",
      "<class 'NoneType'>\n"
     ]
    }
   ],
   "source": [
    "# No tipado (no se declara la variables)\n",
    "# Variables primitivas \n",
    "entero = 4\n",
    "decimales = 1.1\n",
    "string = \"Jefferson\"\n",
    "segundo_nombre = \"Paul\" # no se debe utilizar camel case \"segundoNombre\" para el nombrado del proyecto no debe empezar con numeros\n",
    "casado = False \n",
    "estudiante = True \n",
    "hijos = None\n",
    "print (type (entero)) #int\n",
    "print (type (decimales)) #float\n",
    "print (type (string)) #string\n",
    "print (type (segundo_nombre))\n",
    "print (type (casado)) # boolean\n",
    "print (type (estudiante)) # boolen\n",
    "print (type (hijos)) # non type\n"
   ]
  },
  {
   "cell_type": "code",
   "execution_count": 8,
   "metadata": {},
   "outputs": [
    {
     "name": "stdout",
     "output_type": "stream",
     "text": [
      "\n",
      "Es uno de los poetas preferidos por gran parte de los lectores de poesía y también por los que no lo son habitualmente.\n",
      "Uno de los más leídos y de los más queridos. \n",
      "A continuación puedes leer mi selección de los mejores poemas de Mario Benedetti.\n",
      "\n",
      "\n"
     ]
    }
   ],
   "source": [
    "cadena_texto = \"\"\"\n",
    "Es uno de los poetas preferidos por gran parte de los lectores de poesía y también por los que no lo son habitualmente.\n",
    "Uno de los más leídos y de los más queridos. \n",
    "A continuación puedes leer mi selección de los mejores poemas de Mario Benedetti.\n",
    "\n",
    "\"\"\"\n",
    "print (cadena_texto)"
   ]
  },
  {
   "cell_type": "code",
   "execution_count": 20,
   "metadata": {},
   "outputs": [
    {
     "name": "stdout",
     "output_type": "stream",
     "text": [
      "False\n",
      "Paul\n"
     ]
    }
   ],
   "source": [
    "print (entero)\n",
    "entero = decimales\n",
    "entero = hijos \n",
    "entero = casado\n",
    "entero = segundo_nombre\n",
    "print (entero)"
   ]
  },
  {
   "cell_type": "code",
   "execution_count": 14,
   "metadata": {},
   "outputs": [
    {
     "name": "stdout",
     "output_type": "stream",
     "text": [
      "Truty\n",
      "Falsy\n",
      "Falsy\n",
      "Truty\n",
      "Falsy\n",
      "Truty\n",
      "Truty\n",
      "Truty\n",
      "Falsy\n",
      "Truty\n",
      "Falsy\n",
      "Truty\n",
      "Falsy\n",
      "Truty\n"
     ]
    }
   ],
   "source": [
    "# Condiciones \n",
    "# Truty - Flasy \n",
    "tuplas = (1,2,3) #Arreglos que no se pueden modificar\n",
    "listas = [4,5,6] #arreglo que se pueden modoficar \n",
    "diccionario = {\n",
    "    \"nombre\": \"Jefferson\"\n",
    "}\n",
    "if ('Jefferson'):\n",
    "    #todo lo que vayamos a escribir va a estar dentro de if \n",
    "    #\n",
    "    print('Truty')\n",
    "else:\n",
    "    #continuamos el codigo\n",
    "    print ('Falsy')\n",
    "if (''):\n",
    "    print('Truty')\n",
    "else:\n",
    "    print('Falsy')\n",
    "    \n",
    "    \n",
    "noulo = None\n",
    "if (noulo):\n",
    "     print('Truty')\n",
    "else:\n",
    "    print('Falsy')\n",
    "# Numeros entero positivos y negativos, numeros decimales    \n",
    "if (1):\n",
    "     print('Truty')\n",
    "else:\n",
    "    print('Falsy')\n",
    "if (0):\n",
    "     print('Truty')\n",
    "else:\n",
    "    print('Falsy')\n",
    "if (-1):\n",
    "     print('Truty')\n",
    "else:\n",
    "    print('Falsy')\n",
    "if (1.2):\n",
    "     print('Truty')\n",
    "else:\n",
    "    print('Falsy')\n",
    "if (-1.2):\n",
    "     print('Truty')\n",
    "else:\n",
    "    print('Falsy')\n",
    "    \n",
    "#Tupla \n",
    "if (()):    \n",
    "     print('Truty')\n",
    "else:\n",
    "    print('Falsy')\n",
    "    \n",
    "if ((1,2,3)):    \n",
    "     print('Truty')\n",
    "else:\n",
    "    print('Falsy')\n",
    "    \n",
    "# Lista   \n",
    "if ([]):\n",
    "     print('Truty')\n",
    "else:\n",
    "    print('Falsy')\n",
    "if ([1,2,3]):\n",
    "     print('Truty')\n",
    "else:\n",
    "    print('Falsy')\n",
    "    \n",
    "# Diccionarios \n",
    "if ({}):\n",
    "     print('Truty')\n",
    "else:\n",
    "    print('Falsy')\n",
    "    \n",
    "nombre = \"nombre\" \n",
    "if ({nombre:\"Jefferson\"}):\n",
    "     print('Truty')\n",
    "else:\n",
    "    print('Falsy')\n",
    "    \n",
    "    \n",
    "    "
   ]
  },
  {
   "cell_type": "code",
   "execution_count": 15,
   "metadata": {},
   "outputs": [],
   "source": [
    "arreglo = [1,2,3,4,5,6,7,8,9,10]"
   ]
  },
  {
   "cell_type": "code",
   "execution_count": 29,
   "metadata": {},
   "outputs": [
    {
     "data": {
      "text/plain": [
       "[]"
      ]
     },
     "execution_count": 29,
     "metadata": {},
     "output_type": "execute_result"
    }
   ],
   "source": [
    "arreglo[0:3] #[0,3[\n",
    "arreglo[5:]  #Hasta el final \n",
    "arreglo[:7]  #Desde el principio hasta la posicion 7\n",
    "arreglo[-1]  #elegira la ultima posicion\n",
    "arreglo[-10] #Indice negativo empieza desde el final \n",
    "arreglo[3:-2]\n",
    "arreglo[-8:8]#Desde el tres al 8\n",
    "arreglo[-4:-1]\n",
    "arreglo[-7:]\n",
    "arreglo[:-3]\n",
    "arreglo[:] #Cogera toda la lista \n",
    "\n",
    "arregloTupla = (1,2,3,4,5,6,7,8,9,10)\n",
    "\n"
   ]
  },
  {
   "cell_type": "code",
   "execution_count": 30,
   "metadata": {},
   "outputs": [
    {
     "data": {
      "text/plain": [
       "[6, 7, 8, 9]"
      ]
     },
     "execution_count": 30,
     "metadata": {},
     "output_type": "execute_result"
    }
   ],
   "source": [
    "arreglo[5:9]"
   ]
  },
  {
   "cell_type": "code",
   "execution_count": 35,
   "metadata": {},
   "outputs": [
    {
     "data": {
      "text/plain": [
       "'Collantes'"
      ]
     },
     "execution_count": 35,
     "metadata": {},
     "output_type": "execute_result"
    }
   ],
   "source": [
    "diccionario = {\n",
    "    \"nombre\": \"Jefferson\",\n",
    "    \"apellido\": \"Collantes\",\n",
    "    \"sueldo\": 0\n",
    "}\n",
    "diccionario[\"apellido\"]"
   ]
  },
  {
   "cell_type": "code",
   "execution_count": 38,
   "metadata": {},
   "outputs": [
    {
     "data": {
      "text/plain": [
       "True"
      ]
     },
     "execution_count": 38,
     "metadata": {},
     "output_type": "execute_result"
    }
   ],
   "source": [
    "10 in arreglo"
   ]
  },
  {
   "cell_type": "code",
   "execution_count": 40,
   "metadata": {},
   "outputs": [
    {
     "name": "stdout",
     "output_type": "stream",
     "text": [
      "<class 'bool'>\n"
     ]
    }
   ],
   "source": [
    "print (type (5 in arreglo))"
   ]
  },
  {
   "cell_type": "code",
   "execution_count": 42,
   "metadata": {},
   "outputs": [
    {
     "data": {
      "text/plain": [
       "10"
      ]
     },
     "execution_count": 42,
     "metadata": {},
     "output_type": "execute_result"
    }
   ],
   "source": [
    "len(arregloTupla)"
   ]
  },
  {
   "cell_type": "code",
   "execution_count": 43,
   "metadata": {},
   "outputs": [
    {
     "data": {
      "text/plain": [
       "3"
      ]
     },
     "execution_count": 43,
     "metadata": {},
     "output_type": "execute_result"
    }
   ],
   "source": [
    "len (diccionario)"
   ]
  },
  {
   "cell_type": "code",
   "execution_count": 44,
   "metadata": {},
   "outputs": [
    {
     "data": {
      "text/plain": [
       "10"
      ]
     },
     "execution_count": 44,
     "metadata": {},
     "output_type": "execute_result"
    }
   ],
   "source": [
    "len (arreglo)"
   ]
  },
  {
   "cell_type": "code",
   "execution_count": 46,
   "metadata": {},
   "outputs": [
    {
     "data": {
      "text/plain": [
       "True"
      ]
     },
     "execution_count": 46,
     "metadata": {},
     "output_type": "execute_result"
    }
   ],
   "source": [
    "\"nombre\" in diccionario # para diccionarios se debe escribir la llave a buscar"
   ]
  },
  {
   "cell_type": "code",
   "execution_count": null,
   "metadata": {},
   "outputs": [],
   "source": []
  }
 ],
 "metadata": {
  "kernelspec": {
   "display_name": "Python 3",
   "language": "python",
   "name": "python3"
  },
  "language_info": {
   "codemirror_mode": {
    "name": "ipython",
    "version": 3
   },
   "file_extension": ".py",
   "mimetype": "text/x-python",
   "name": "python",
   "nbconvert_exporter": "python",
   "pygments_lexer": "ipython3",
   "version": "3.7.6"
  }
 },
 "nbformat": 4,
 "nbformat_minor": 4
}
