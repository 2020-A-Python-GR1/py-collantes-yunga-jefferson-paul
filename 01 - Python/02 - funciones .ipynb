{
 "cells": [
  {
   "cell_type": "code",
   "execution_count": 1,
   "metadata": {},
   "outputs": [
    {
     "name": "stdout",
     "output_type": "stream",
     "text": [
      "Hola Mundo\n"
     ]
    },
    {
     "data": {
      "text/plain": [
       "NoneType"
      ]
     },
     "execution_count": 1,
     "metadata": {},
     "output_type": "execute_result"
    }
   ],
   "source": [
    "#Funciones\n",
    "def hola_mundo ():\n",
    "    print (\"Hola Mundo\")\n",
    "type (hola_mundo())"
   ]
  },
  {
   "cell_type": "code",
   "execution_count": 6,
   "metadata": {},
   "outputs": [
    {
     "name": "stdout",
     "output_type": "stream",
     "text": [
      "La suma de 2 y 3 es igual a5\n"
     ]
    }
   ],
   "source": [
    "def sumar_dos_numeros (num_uno, num_dos):\n",
    "    return num_uno + num_dos\n",
    "#print (sumar_dos_numeros(2,3))\n",
    "total_suma = sumar_dos_numeros(2,3)\n",
    "print(f\"La suma de 2 y 3 es igual a {total_suma}\")"
   ]
  },
  {
   "cell_type": "code",
   "execution_count": 13,
   "metadata": {},
   "outputs": [
    {
     "name": "stdout",
     "output_type": "stream",
     "text": [
      "Universidad:EPN\n",
      "Universidad:ESPE\n"
     ]
    }
   ],
   "source": [
    "def imprimir_universidad (nombre= \"EPN\"): # Parametro Opcionales los que van entre comillas\n",
    "    print(f\"Universidad:{nombre}\")        # parametros Por Defecto\n",
    "imprimir_universidad()\n",
    "imprimir_universidad(\"ESPE\")"
   ]
  },
  {
   "cell_type": "code",
   "execution_count": 19,
   "metadata": {},
   "outputs": [
    {
     "name": "stdout",
     "output_type": "stream",
     "text": [
      "Color:Blanco\n",
      "Placa:ABC-12354\n",
      "Horse powe:3000\n",
      "Anio:1989\n"
     ]
    }
   ],
   "source": [
    "#REgla :1) parametros Requeridos\n",
    "#        2)Paretros Opcionales\n",
    "def imprimir_carro (color, placa, hp, anio = 1989):\n",
    "    print(f\"Color:{color}\")\n",
    "    print(f\"Placa:{placa}\")\n",
    "    print(f\"Horse powe:{hp}\")\n",
    "    print(f\"Anio:{anio}\")\n",
    "imprimir_carro(\"Blanco\",\"ABC-12354\",3000)"
   ]
  },
  {
   "cell_type": "code",
   "execution_count": 17,
   "metadata": {},
   "outputs": [
    {
     "name": "stdout",
     "output_type": "stream",
     "text": [
      "Color:Negro\n",
      "Color:XAHD-25225\n",
      "Color:2500\n",
      "Color:2020\n"
     ]
    }
   ],
   "source": [
    "#Named parametros (Parametros nombrados)\n",
    "imprimir_carro(anio=2020,placa=\"XAHD-25225\",hp=2500,color=\"Negro\")"
   ]
  },
  {
   "cell_type": "code",
   "execution_count": 20,
   "metadata": {},
   "outputs": [
    {
     "name": "stdout",
     "output_type": "stream",
     "text": [
      "Color:Negro\n",
      "Placa:ASDA-4545\n",
      "Horse powe:454664\n",
      "Anio:16464\n"
     ]
    }
   ],
   "source": [
    "# reglas podemos usar parametros por posicion y luego todos los demas \n",
    "# podemos usar paramtros nombrados\n",
    "imprimir_carro(\"Negro\", \"ASDA-4545\", anio=16464, hp=454664)"
   ]
  },
  {
   "cell_type": "code",
   "execution_count": 29,
   "metadata": {},
   "outputs": [
    {
     "data": {
      "text/plain": [
       "21"
      ]
     },
     "execution_count": 29,
     "metadata": {},
     "output_type": "execute_result"
    }
   ],
   "source": [
    "def sumar_numeros (primer_numero,\n",
    "                  *numeros): #parametros infinitos \n",
    "    suma = primer_numero\n",
    "    for numero in numeros:\n",
    "        suma = suma + numero\n",
    "    return suma\n",
    "    print(primer_numero)\n",
    "    print(numeros)\n",
    "    print(type(numeros))\n",
    "sumar_numeros(1,2,3,4,5,6)"
   ]
  },
  {
   "cell_type": "code",
   "execution_count": 31,
   "metadata": {},
   "outputs": [
    {
     "name": "stdout",
     "output_type": "stream",
     "text": [
      "{'saludo': 'Hola', 'mensaje': 'Mundo'}\n",
      "<class 'dict'>\n"
     ]
    }
   ],
   "source": [
    "def establecer_configuracio(**configuracion):\n",
    "    print (configuracion)\n",
    "    print (type(configuracion))\n",
    "establecer_configuracio(saludo = \"Hola\", mensaje=\"Mundo\")"
   ]
  },
  {
   "cell_type": "code",
   "execution_count": 33,
   "metadata": {},
   "outputs": [
    {
     "name": "stdout",
     "output_type": "stream",
     "text": [
      "{'saludo': 'Hola', 'mensaje': 'Mundo'}\n",
      "<class 'dict'>\n"
     ]
    }
   ],
   "source": [
    "def establecer_configuracio(**kwargs):\n",
    "    print (kwargs)\n",
    "    print (type(kwargs))\n",
    "establecer_configuracio(saludo = \"Hola\", mensaje=\"Mundo\")"
   ]
  },
  {
   "cell_type": "code",
   "execution_count": null,
   "metadata": {},
   "outputs": [],
   "source": [
    "#REglas \n",
    "def ejemplo (requerido_uno,\n",
    "            requerido_dos,\n",
    "            opcional_uno =1,\n",
    "            opcional_dos =2,\n",
    "            *infitos,\n",
    "            **kwags):\n",
    "    print(\":)\")"
   ]
  },
  {
   "cell_type": "code",
   "execution_count": null,
   "metadata": {},
   "outputs": [],
   "source": []
  },
  {
   "cell_type": "code",
   "execution_count": null,
   "metadata": {},
   "outputs": [],
   "source": []
  }
 ],
 "metadata": {
  "kernelspec": {
   "display_name": "Python 3",
   "language": "python",
   "name": "python3"
  },
  "language_info": {
   "codemirror_mode": {
    "name": "ipython",
    "version": 3
   },
   "file_extension": ".py",
   "mimetype": "text/x-python",
   "name": "python",
   "nbconvert_exporter": "python",
   "pygments_lexer": "ipython3",
   "version": "3.7.6"
  }
 },
 "nbformat": 4,
 "nbformat_minor": 4
}
