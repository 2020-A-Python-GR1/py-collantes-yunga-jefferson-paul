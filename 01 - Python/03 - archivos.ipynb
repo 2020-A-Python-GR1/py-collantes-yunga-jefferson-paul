{
 "cells": [
  {
   "cell_type": "code",
   "execution_count": 3,
   "metadata": {},
   "outputs": [
    {
     "name": "stdout",
     "output_type": "stream",
     "text": [
      "['Buenas Tardes Buenas Tardes amigoBuenas Tardes amigoBuenas Tardes amigo']\n",
      "<class 'list'>\n"
     ]
    }
   ],
   "source": [
    "try: \n",
    "    path = \"./frases.txt\"\n",
    "    archivo_abierto = open(path)\n",
    "    #linea_uno = archivo_abierto.readline()#para leer un sola linea\n",
    "    linea_uno = archivo_abierto.readlines()\n",
    "    print(linea_uno)\n",
    "    print(type(linea_uno))\n",
    "    archivo_abierto.close()\n",
    "except Exception as Error:\n",
    "    print(\"Error leyendo archivo\")"
   ]
  },
  {
   "cell_type": "code",
   "execution_count": 2,
   "metadata": {},
   "outputs": [],
   "source": [
    "try: \n",
    "    path = \"./frases.txt\"\n",
    "    #archivo_abierto = open(path, 'w')\n",
    "    archivo_abierto = open(path, 'a')#w -> write a -> append\n",
    "    #linea_uno = archivo_abierto.readline()#para leer un sola linea\n",
    "    #linea_uno = archivo_abierto.readlines()\n",
    "    archivo_abierto.write(\"Buenas Tardes amigo\")\n",
    "    archivo_abierto.close()\n",
    "except Exception as Error:\n",
    "    print(\"Error leyendo archivo\")"
   ]
  },
  {
   "cell_type": "code",
   "execution_count": null,
   "metadata": {},
   "outputs": [],
   "source": []
  }
 ],
 "metadata": {
  "kernelspec": {
   "display_name": "Python 3",
   "language": "python",
   "name": "python3"
  },
  "language_info": {
   "codemirror_mode": {
    "name": "ipython",
    "version": 3
   },
   "file_extension": ".py",
   "mimetype": "text/x-python",
   "name": "python",
   "nbconvert_exporter": "python",
   "pygments_lexer": "ipython3",
   "version": "3.7.6"
  }
 },
 "nbformat": 4,
 "nbformat_minor": 4
}
